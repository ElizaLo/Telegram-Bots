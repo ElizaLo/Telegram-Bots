{
 "cells": [
  {
   "cell_type": "code",
   "execution_count": 1,
   "metadata": {},
   "outputs": [],
   "source": [
    "import random\n",
    "import nltk"
   ]
  },
  {
   "cell_type": "code",
   "execution_count": 7,
   "metadata": {},
   "outputs": [],
   "source": [
    "BOT_CONFIG = {\n",
    "    'threshold': 0.6,\n",
    "    \n",
    "    'intents': {\n",
    "\n",
    "        'hello': {\n",
    "            'examples': ['Привет', 'Добрый день', 'Здраствуйте!', 'Добрый вечер!', 'Доброе утро'],\n",
    "            'responses': ['Привет, странник!', 'Здраствуй', 'Hello!']\n",
    "        },\n",
    "        'goodbye': {\n",
    "            'examples': ['Пока', 'Всего доброго', 'До свидания'],\n",
    "            'responses': ['Пока', 'Счастливо!']\n",
    "        },\n",
    "        'thanks': {\n",
    "            'examples': ['Спасибо', 'Спасибо большое!', 'Сенкс', 'Благодарю', 'Thanks'],\n",
    "            'responses': ['И Вам спасибо!', 'Да не за что!', 'Всегда пожалуйста!', 'Была рада помочь',]\n",
    "        },\n",
    "        'whatcanyoudo': {\n",
    "            'examples': ['Что ты умеешь?', 'Расскажи что умеешь'],\n",
    "            'responses': ['Отвечать на вопросы. Просто напиши :)']\n",
    "        },\n",
    "        'name': {\n",
    "            'examples': ['Как тебя зовут?', 'Твое имя?'],\n",
    "            'responses': ['Меня зовут бот. Просто бот.']\n",
    "        },\n",
    "        'weather': {\n",
    "            'examples': ['Какая погода в Киеве?', 'Какая сегодня будет погода?'],\n",
    "            'responses': ['Погода так себе...', 'Какая пожелаешь :)']\n",
    "        },\n",
    "        'movie': {\n",
    "            'examples': ['Какой твой любимый фильм?', 'Любимый фильм'],\n",
    "            'responses': ['The Godfather', 'The Great Gatsby', 'Parasite', 'Fantasia', 'The Social Network',\n",
    "                          'Pulp Fiction', 'The Irishman']\n",
    "        },\n",
    "        'song': {\n",
    "            'examples': ['Какая твоя любимая песня?', 'Любимая песня', 'Песня'],\n",
    "            'responses': ['Adele - \"Hello\"', 'Beyonce - \"XO\"', 'Loren Allred - \"Never Enough\"', \n",
    "                          'NF - \"Let You Down\"', 'Post Malone - \"Rockstar\"', 'Post Malone - \"The Road\"', \n",
    "                          'The Weeknd - \"Starboy\"']\n",
    "        },\n",
    "    },\n",
    "\n",
    "    'failure_phrases': [\n",
    "        'Я не знаю, что ответить',\n",
    "        'Не поняла вас',\n",
    "        'Переформулируйте, пожалуйста',\n",
    "    ]\n",
    "}"
   ]
  },
  {
   "cell_type": "code",
   "execution_count": 8,
   "metadata": {},
   "outputs": [],
   "source": [
    "def get_intent(text):\n",
    "    for intent, intent_data in BOT_CONFIG['intents'].items():\n",
    "        for example in intent_data['examples']:\n",
    "            # Levenshtein distance\n",
    "            distance = nltk.edit_distance(text.lower(), example.lower())\n",
    "            # Насколько процентов похожи фразы\n",
    "            similarity = 1 - min(1, distance / len(example))\n",
    "            if similarity >= BOT_CONFIG['threshold']:\n",
    "                return intent"
   ]
  },
  {
   "cell_type": "code",
   "execution_count": 9,
   "metadata": {},
   "outputs": [],
   "source": [
    "def generate_answer(text):\n",
    "    # NLU:\n",
    "\n",
    "    intent = get_intent(text)\n",
    "    \n",
    "    # Answer generation:\n",
    "    \n",
    "    # rules\n",
    "    if intent is not None:\n",
    "        responses = BOT_CONFIG['intents'][intent]['responses']\n",
    "        return random.choice(responses)\n",
    "\n",
    "    # generative model\n",
    "    # TODO\n",
    "\n",
    "    # return failure phrase\n",
    "    return random.choice(BOT_CONFIG['failure_phrases'])"
   ]
  },
  {
   "cell_type": "code",
   "execution_count": null,
   "metadata": {},
   "outputs": [
    {
     "name": "stdout",
     "output_type": "stream",
     "text": [
      "Приветульки\n",
      "Не поняла вас\n",
      "Приветики\n",
      "Не поняла вас\n",
      "Привет\n",
      "Привет, странник!\n",
      "День добрый\n",
      "Не поняла вас\n",
      "Добрый\n",
      "Я не знаю, что ответить\n",
      "Добрый день\n",
      "Hello!\n",
      "Фильм\n",
      "Я не знаю, что ответить\n",
      "Любимый фильм\n",
      "The Social Network\n",
      "Песня\n",
      "Post Malone - \"Rockstar\"\n",
      "Любимая песня\n",
      "NF - \"Let You Down\"\n",
      "Любимый фильм\n",
      "The Social Network\n",
      "Любимый фильм\n",
      "Pulp Fiction\n",
      "Какая сегодня будет погода?\n",
      "Какая пожелаешь :)\n"
     ]
    }
   ],
   "source": [
    "while True:\n",
    "    # read\n",
    "    question = input()\n",
    "    # generate\n",
    "    answer = generate_answer(question)\n",
    "    # answer\n",
    "    print(answer)"
   ]
  },
  {
   "cell_type": "code",
   "execution_count": null,
   "metadata": {},
   "outputs": [],
   "source": []
  }
 ],
 "metadata": {
  "kernelspec": {
   "display_name": "Python 3",
   "language": "python",
   "name": "python3"
  },
  "language_info": {
   "codemirror_mode": {
    "name": "ipython",
    "version": 3
   },
   "file_extension": ".py",
   "mimetype": "text/x-python",
   "name": "python",
   "nbconvert_exporter": "python",
   "pygments_lexer": "ipython3",
   "version": "3.6.7"
  }
 },
 "nbformat": 4,
 "nbformat_minor": 2
}
