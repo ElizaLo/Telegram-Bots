{
 "cells": [
  {
   "cell_type": "markdown",
   "metadata": {},
   "source": [
    "# Data preprocessing"
   ]
  },
  {
   "cell_type": "markdown",
   "metadata": {},
   "source": [
    "\n",
    "## Download dataset from https://github.com/Koziev/NLP_Datasets/blob/master/Conversations/Data/dialogues.zip"
   ]
  },
  {
   "cell_type": "code",
   "execution_count": 19,
   "metadata": {},
   "outputs": [],
   "source": [
    "import nltk"
   ]
  },
  {
   "cell_type": "code",
   "execution_count": 6,
   "metadata": {
    "scrolled": true
   },
   "outputs": [
    {
     "name": "stdout",
     "output_type": "stream",
     "text": [
      "- Пока, толстуха!\n",
      "- Пока, малышка!\n",
      "\n",
      "- Этому надо положить конец,\n",
      "- Это не жизнь!\n",
      "\n",
      "- А ты не помолчишь?\n",
      "- Замолчу, когда захочу.\n",
      "\n",
      "- А ты не помолчишь?\n",
      "- Замолчу, когда захочу.\n",
      "- Ну так не молчи.\n",
      "\n",
      "- Это зависит!\n",
      "- Будет сегодня хорошая погода, Ганьярд?\n",
      "\n",
      "- Это зависит!\n",
      "- Будет сегодня хорошая погода, Ганьярд?\n",
      "- Это зависит!\n",
      "\n",
      "- Это твоей жене пришло в голову. Значит, тебе и платить.\n",
      "- Старина!\n",
      "\n",
      "- Сделай мне одолжение и сейчас же рассорься с ее мужем!\n",
      "- Вот напасть!\n",
      "\n",
      "- Знаешь, если моя разозлит меня, я ей задам.\n",
      "- Тише!\n",
      "\n",
      "- Стой,\n",
      "- Что они там делают?\n",
      "\n",
      "- Стой,\n",
      "- Что они там делают?\n",
      "- Ну и ну!\n",
      "\n",
      "- Пашенька!\n",
      "- Чего, мам?\n",
      "\n",
      "- Радость ты моя, Пашенька!\n",
      "- Молодец, Пашка!\n",
      "\n",
      "- Что, сынонька, что?!\n",
      "- Что, Пашенька?\n",
      "\n",
      "- Андрюха! Да чего же теперь будет?\n",
      "- Что надо, Арбузик, то и будет!\n",
      "\n",
      "- Мне бы Шиповника...\n",
      "- Какого еще Шиповника?\n",
      "\n",
      "- Зачем?\n",
      "- Записка ей. С Михельсона. От Андреева.\n",
      "- Давай мне!\n",
      "\n",
      "- Извините, я на минутку.\n",
      "- Что, мальчик?\n",
      "\n",
      "- Вам от Андрея, моего брата.\n",
      "- Спасибо, мальчик!\n",
      "\n",
      "- А-а! Прозвище \n"
     ]
    }
   ],
   "source": [
    "with open('dialogues.txt') as dialogues_file:\n",
    "    content = dialogues_file.read()\n",
    "\n",
    "print(content[:1000])"
   ]
  },
  {
   "cell_type": "markdown",
   "metadata": {},
   "source": [
    "Remove \\n\\n"
   ]
  },
  {
   "cell_type": "code",
   "execution_count": 7,
   "metadata": {},
   "outputs": [
    {
     "name": "stdout",
     "output_type": "stream",
     "text": [
      "1034007\n",
      "['- Пока, толстуха!\\n- Пока, малышка!', '- Этому надо положить конец,\\n- Это не жизнь!', '- А ты не помолчишь?\\n- Замолчу, когда захочу.', '- А ты не помолчишь?\\n- Замолчу, когда захочу.\\n- Ну так не молчи.', '- Это зависит!\\n- Будет сегодня хорошая погода, Ганьярд?', '- Это зависит!\\n- Будет сегодня хорошая погода, Ганьярд?\\n- Это зависит!', '- Это твоей жене пришло в голову. Значит, тебе и платить.\\n- Старина!', '- Сделай мне одолжение и сейчас же рассорься с ее мужем!\\n- Вот напасть!', '- Знаешь, если моя разозлит меня, я ей задам.\\n- Тише!', '- Стой,\\n- Что они там делают?']\n"
     ]
    }
   ],
   "source": [
    "dialogues = content.split('\\n\\n')\n",
    "print(len(dialogues))\n",
    "print(dialogues[:10])"
   ]
  },
  {
   "cell_type": "code",
   "execution_count": 8,
   "metadata": {},
   "outputs": [],
   "source": [
    "chit_chat_dataset = []  # [(question, answer), ...]\n",
    "\n",
    "for dialogue in dialogues:\n",
    "    replicas = dialogue.split('\\n')\n",
    "    replicas = [replica[2:].strip().lower() for replica in replicas]\n",
    "    replicas = [replica for replica in replicas if replica] # Убираем пустые реплики\n",
    "    for i in range(len(replicas) - 1):\n",
    "        chit_chat_dataset.append((replicas[i], replicas[i+1]))"
   ]
  },
  {
   "cell_type": "code",
   "execution_count": 9,
   "metadata": {},
   "outputs": [
    {
     "name": "stdout",
     "output_type": "stream",
     "text": [
      "1878167\n",
      "1193289\n"
     ]
    }
   ],
   "source": [
    "print(len(chit_chat_dataset))\n",
    "chit_chat_dataset = list(set(chit_chat_dataset))\n",
    "print(len(chit_chat_dataset))"
   ]
  },
  {
   "cell_type": "code",
   "execution_count": 10,
   "metadata": {},
   "outputs": [
    {
     "name": "stdout",
     "output_type": "stream",
     "text": [
      "[('куда вы дели слитый из мотора отстой масла?', 'я его и в руки не брал.'), ('странная у вас свобода печати, - пожал плечами инже-', 'а что же даст нам обстрел астероида?'), ('это ужасно,', 'с удовольствием.'), ('я клянусь вам, муж мой. я никогда не была с мужчиной.', 'это всего лишь слова.'), ('у вас, барон, нет чего-нибудь почитать?', 'к сожалению.'), ('деньги покупают многое.', 'вы действительно хотите меня купить?'), ('по-моему, он наврал,', 'но надо пойти, проверить. все равно больше делать нечего.'), ('я просил три бутылки!', 'почему три?'), ('сколько котова брала за визит?', 'сто пятьдесят долларов.'), ('за что?', 'за то, что беспокоитесь о заке.')]\n"
     ]
    }
   ],
   "source": [
    "print(chit_chat_dataset[:10])"
   ]
  },
  {
   "cell_type": "code",
   "execution_count": 12,
   "metadata": {},
   "outputs": [],
   "source": [
    "threshold = 0.9\n",
    "chit_chat_dataset_part = chit_chat_dataset[:200000]"
   ]
  },
  {
   "cell_type": "code",
   "execution_count": 13,
   "metadata": {},
   "outputs": [],
   "source": [
    "def generate_random_answer(text):\n",
    "    text = text.lower()\n",
    "\n",
    "    for question, answer in chit_chat_dataset_part:\n",
    "        if abs(len(text) - len(question)) / len(question) <= (1 - threshold):\n",
    "            distance = nltk.edit_distance(text, question)  # Расстояние Левенштейна\n",
    "            similarity = 1 - min(1, distance / len(question))  # Насколько процентов похожи фразы\n",
    "            if similarity >= threshold:\n",
    "                return answer"
   ]
  },
  {
   "cell_type": "code",
   "execution_count": 17,
   "metadata": {},
   "outputs": [
    {
     "data": {
      "text/plain": [
       "'вы действительно хотите меня купить?'"
      ]
     },
     "execution_count": 17,
     "metadata": {},
     "output_type": "execute_result"
    }
   ],
   "source": [
    "generate_random_answer('деньги покупают многое')"
   ]
  },
  {
   "cell_type": "code",
   "execution_count": null,
   "metadata": {},
   "outputs": [],
   "source": []
  }
 ],
 "metadata": {
  "kernelspec": {
   "display_name": "Python 3",
   "language": "python",
   "name": "python3"
  },
  "language_info": {
   "codemirror_mode": {
    "name": "ipython",
    "version": 3
   },
   "file_extension": ".py",
   "mimetype": "text/x-python",
   "name": "python",
   "nbconvert_exporter": "python",
   "pygments_lexer": "ipython3",
   "version": "3.6.7"
  }
 },
 "nbformat": 4,
 "nbformat_minor": 4
}
